{
 "cells": [
  {
   "cell_type": "markdown",
   "metadata": {},
   "source": [
    "---\n",
    "toc: true\n",
    "comments: true\n",
    "layout: post\n",
    "title: Unit 7 ArrayLists - Teacher notebook\n",
    "description:  Lesson on the College Board Unit 6 Arrays. This is the teacher notebook.\n",
    "courses: { csa: {week: 10} }\n",
    "type: hacks\n",
    "authors: Tay, Raymond, Ethan T., Ethan Z., Anthony B.\n",
    "---"
   ]
  },
  {
   "cell_type": "markdown",
   "metadata": {},
   "source": [
    "## 7.1 Intro to ArrayLists\n",
    "\n",
    "- An **ArrayList** is a utility from the ``java.util`` package\n",
    "\n",
    "- To declare a variable, use the format `ArrayList<DataType> variableName = new ArrayList<DataType>(initial number of elements);`\n",
    "\n",
    "- Unlike arrays, ArrayLists are mutable (can be resized after initialization)\n",
    "\n",
    "- Functions as a more versatile array\n",
    "\n",
    "    - Does technically take more space than an array but for the purposes of CSA it shouldn't matter\n",
    "<br>\n",
    "<br>\n",
    "\n",
    "Difference between Array and Arraylist:\n",
    "| Array | Arraylist |\n",
    "| - | - |\n",
    "| Fixed length | Resizable length |\n",
    "| Fundamental Java Feature | Part of a Framework |\n",
    "| An object with no methods | A Class with many methods |\n",
    "| Not very flexible | Flexible |\n",
    "| Can store primitives | Cannot store primitives - stores objects instead |\n",
    "\n",
    "Example of Array: Basketball players on court\n",
    "\n",
    "Example of Arraylist: Dodgeball players on court\n",
    "\n",
    "### Question\n",
    "When should we use ArrayLists vs Arrays?\n",
    "\n",
    "Answer:\n",
    "\n",
    "<br>\n",
    "<br>\n",
    "Showing how ArrayLists are mutable:"
   ]
  },
  {
   "cell_type": "code",
   "execution_count": 4,
   "metadata": {
    "vscode": {
     "languageId": "java"
    }
   },
   "outputs": [
    {
     "name": "stdout",
     "output_type": "stream",
     "text": [
      "Array 1:[]\n",
      "Array 2:[]\n",
      "Array 1:[1, 2, 3, 4, 5]\n",
      "Array 2:[1, 2, 3, 4, 5]\n"
     ]
    }
   ],
   "source": [
    "import java.util.ArrayList;\n",
    "\n",
    "class ArrayListExample { \n",
    "    public static void main(String[] args) \n",
    "    { \n",
    "        // Size of ArrayList \n",
    "        int n = 5; \n",
    "  \n",
    "        // Declaring ArrayList with initial size n \n",
    "        ArrayList<Integer> arr1 = new ArrayList<Integer>(n); \n",
    "  \n",
    "        // Declaring ArrayList without initial size\n",
    "        ArrayList<Integer> arr2 = new ArrayList<Integer>(); \n",
    "  \n",
    "        // Printing ArrayList \n",
    "        System.out.println(\"Array 1:\" + arr1); \n",
    "        System.out.println(\"Array 2:\" + arr2); \n",
    "  \n",
    "        // Appending new elements to the end of the list \n",
    "        for (int i = 1; i <= n; i++) { \n",
    "            arr1.add(i); \n",
    "            arr2.add(i); \n",
    "        } \n",
    "  \n",
    "        // Printing ArrayList \n",
    "        System.out.println(\"Array 1:\" + arr1); \n",
    "        System.out.println(\"Array 2:\" + arr2); \n",
    "    } \n",
    "}\n",
    "ArrayListExample.main(null);"
   ]
  },
  {
   "cell_type": "markdown",
   "metadata": {},
   "source": [
    "## 7.1 Popcorn Hack\n",
    "\n",
    "Create an ArrayList that stores the integers 5, 8, 14, 18, 24, 39, and 56 and only print the numbers that are divisible by 3."
   ]
  },
  {
   "cell_type": "code",
   "execution_count": null,
   "metadata": {
    "vscode": {
     "languageId": "java"
    }
   },
   "outputs": [],
   "source": [
    "import java.util.ArrayList;\n",
    "\n",
    "public class DivisibleBy3 {\n",
    "    public static void main(String[] args) {\n",
    "        // declare variable and add integers\n",
    "\n",
    "        System.out.println(\"Numbers divisble by 3:\");\n",
    "        // write code here\n",
    "    }\n",
    "}\n",
    "DivisibleBy3.main(null);"
   ]
  },
  {
   "cell_type": "markdown",
   "metadata": {},
   "source": [
    "### Vocabulary Refresher\n",
    "- An **element** is a single value in the **array**\n",
    "\n",
    "- The __**index**__ of an **element** is the position of the element in the **array** or **ArrayList**\n",
    "\n",
    "    - The first index of an **ArrayList**, like **arrays** is also 0 \n",
    "<br>\n",
    "<br>\n",
    "- The **length** of an **array** is the number of elements in the array.\n"
   ]
  },
  {
   "cell_type": "markdown",
   "metadata": {},
   "source": [
    "## 7.2 Arraylist Methods\n",
    "- add()\n",
    "    - Adding a value to the ArrayList\n",
    "    - Can be used to create an element at a specific index in the ArrayList - when this happens, everything at the positions of index and higher are moved to the right by 1 \n",
    "- get()\n",
    "    - Get the value of an index in the ArrayList\n",
    "- set()\n",
    "    - Change the value at an index in the ArrayList\n",
    "- remove()\n",
    "    - Delete the value at in index in the ArrayList\n",
    "- clear()\n",
    "    - Remove all values in an ArrayList\n",
    "- size()\n",
    "    - Get the length of the ArrayList"
   ]
  },
  {
   "cell_type": "code",
   "execution_count": 8,
   "metadata": {
    "vscode": {
     "languageId": "java"
    }
   },
   "outputs": [
    {
     "name": "stdout",
     "output_type": "stream",
     "text": [
      "0\n",
      "[1, 2, 3, 4, 5, 6, 7]\n",
      "2\n",
      "5\n",
      "[1, 200, 3, 4, 6, 7]\n"
     ]
    }
   ],
   "source": [
    "import java.util.ArrayList;\n",
    "\n",
    "public class Test {\n",
    "    public static void main(String[] args) {\n",
    "        ArrayList<Integer> test = new ArrayList<>();\n",
    "        System.out.println(test.size());\n",
    "        test.add(1); //index 0\n",
    "        test.add(2); // index 1\n",
    "        test.add(3); // index 2\n",
    "        test.add(4); // index 3\n",
    "        test.add(5); // index 4\n",
    "        test.add(6); // index 5\n",
    "        test.add(7); // index 6\n",
    "\n",
    "        System.out.println(test);\n",
    "\n",
    "        int i = test.set(1, 200); // prints what used to be at index 1\n",
    "        int x = test.remove(4); // prints what was removed\n",
    "\n",
    "        System.out.println(i);\n",
    "        System.out.println(x);\n",
    "        System.out.println(test);\n",
    "    }\n",
    "}\n",
    "Test.main(null);"
   ]
  },
  {
   "cell_type": "markdown",
   "metadata": {},
   "source": [
    "## Printing an ArrayList\n",
    "- You can't print an **array** without a loop\n",
    "- You can print **ArrayLists** with just one `System.out.println()`"
   ]
  },
  {
   "cell_type": "code",
   "execution_count": 5,
   "metadata": {
    "vscode": {
     "languageId": "java"
    }
   },
   "outputs": [
    {
     "name": "stdout",
     "output_type": "stream",
     "text": [
      "[You agree, I agree]\n",
      "\n",
      "[They agree, I agree]\n"
     ]
    }
   ],
   "source": [
    "import java.util.ArrayList;\n",
    "\n",
    "public class Main {\n",
    "    public static void main(String[] args)\n",
    "    {\n",
    "        ArrayList<String> arr = new ArrayList<String>(); //initializes the arraylist object\n",
    "\n",
    "        arr.add(\"I agree\");\n",
    "        arr.add(0, \"You agree\");\n",
    "        System.out.println(arr);\n",
    "\n",
    "        arr.set(0, \"They agree\");\n",
    "\n",
    "        arr.add(\"I disagree\");\n",
    "        arr.remove(2);\n",
    "        \n",
    "        System.out.println();\n",
    "        System.out.println(arr);\n",
    "    }\n",
    "}\n",
    "Main.main(null);"
   ]
  },
  {
   "cell_type": "markdown",
   "metadata": {},
   "source": [
    "## Popcorn Hack\n",
    "\n",
    "Finish the code below so that all duplicates in the ArrayList are removed."
   ]
  },
  {
   "cell_type": "code",
   "execution_count": null,
   "metadata": {
    "vscode": {
     "languageId": "java"
    }
   },
   "outputs": [],
   "source": [
    "import java.util.Arraylist;\n",
    "\n",
    "public class RemoveDuplicates {\n",
    "    public static void main(String[] args) {\n",
    "        ArrayList<Integer> arr = new ArrayList<>(); // creating new arraylist of integers\n",
    "        \n",
    "        // adding integers to the arraylist\n",
    "        arr.add(1);\n",
    "        arr.add(7);\n",
    "        arr.add(9);\n",
    "        arr.add(13);\n",
    "        arr.add(3);\n",
    "        arr.add(7);\n",
    "        arr.add(9);\n",
    "        arr.add(2);\n",
    "\n",
    "        // add your code here\n",
    "    }\n",
    "}\n",
    "RemoveDuplicates.main(null);"
   ]
  },
  {
   "cell_type": "markdown",
   "metadata": {},
   "source": [
    "## Array to ArrayList\n",
    "- You can use the Arrays.asList() method to convert an existing **array** to an **ArrayList**"
   ]
  },
  {
   "cell_type": "code",
   "execution_count": 2,
   "metadata": {
    "vscode": {
     "languageId": "java"
    }
   },
   "outputs": [
    {
     "name": "stdout",
     "output_type": "stream",
     "text": [
      "[Kim, Tay, Tran, Ethan, Sheng, Raymond]\n"
     ]
    }
   ],
   "source": [
    "public class ArrayListFromArray\n",
    "{\n",
    "    public static void main(String[] args)\n",
    "    {\n",
    "       String[] names = {\"Kim\", \"Tay\", \"Tran\", \"Ethan\", \"Sheng\", \"Raymond\"};\n",
    "       ArrayList<String> namesList = new ArrayList<String>(Arrays.asList(names));\n",
    "       System.out.println(namesList);\n",
    "    }\n",
    "}\n",
    "ArrayListFromArray.main(null);"
   ]
  },
  {
   "cell_type": "markdown",
   "metadata": {},
   "source": [
    "## 7.3 Traversing ArrayLists"
   ]
  },
  {
   "cell_type": "markdown",
   "metadata": {},
   "source": [
    "## 7.4 Developing Algorithms Using ArrayLists"
   ]
  },
  {
   "cell_type": "markdown",
   "metadata": {},
   "source": [
    "## 7.5 Searching"
   ]
  },
  {
   "cell_type": "markdown",
   "metadata": {},
   "source": [
    "## 7.6 Sorting\n",
    "- Using the sort() method\n",
    "\n",
    "- Requires importing the Collections package\n",
    "\n",
    "- Works both alphabetically (with Characters and Strings) and numerically (with Integers, Doubles, etc.)"
   ]
  },
  {
   "cell_type": "code",
   "execution_count": 9,
   "metadata": {
    "vscode": {
     "languageId": "java"
    }
   },
   "outputs": [
    {
     "name": "stdout",
     "output_type": "stream",
     "text": [
      "Before sorting: \n",
      "[T, E, M, B, V]\n",
      "After sorting: \n",
      "[B, E, M, T, V]\n"
     ]
    }
   ],
   "source": [
    "import java.util.ArrayList;\n",
    "import java.util.Collections;\n",
    "\n",
    "public class Main {\n",
    "    public static void main(String[] args)\n",
    "    {\n",
    "        ArrayList<Character> arrSort = new ArrayList<Character>();\n",
    "        arrSort.add('T');\n",
    "        arrSort.add('E');\n",
    "        arrSort.add('M');\n",
    "        arrSort.add('B');\n",
    "        arrSort.add('V');\n",
    "\n",
    "        //Print the arraylist before sorting using enhanced for loop\n",
    "        System.out.println(\"Before sorting: \");\n",
    "        System.out.println(arrSort);\n",
    "\n",
    "        Collections.sort(arrSort);\n",
    "\n",
    "        //Print after sorting\n",
    "        System.out.println(\"After sorting: \");\n",
    "        System.out.println(arrSort);\n",
    "    }\n",
    "}\n",
    "Main.main(null);"
   ]
  }
 ],
 "metadata": {
  "kernelspec": {
   "display_name": "Java",
   "language": "java",
   "name": "java"
  },
  "language_info": {
   "codemirror_mode": "java",
   "file_extension": ".jshell",
   "mimetype": "text/x-java-source",
   "name": "Java",
   "pygments_lexer": "java",
   "version": "17.0.8+7-Ubuntu-120.04.2"
  }
 },
 "nbformat": 4,
 "nbformat_minor": 2
}
