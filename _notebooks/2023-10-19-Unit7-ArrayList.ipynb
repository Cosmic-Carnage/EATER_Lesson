{
 "cells": [
  {
   "cell_type": "markdown",
   "metadata": {},
   "source": [
    "---\n",
    "toc: true\n",
    "comments: true\n",
    "layout: post\n",
    "title: Unit 6 Arrays - Teacher notebook\n",
    "description:  Lesson on the College Board Unit 6 Arrays. This is the teacher notebook.\n",
    "courses: { compsci: {week: 1} }\n",
    "type: hacks\n",
    "---"
   ]
  },
  {
   "cell_type": "markdown",
   "metadata": {},
   "source": [
    "## Intro to ArrayLists\n",
    "\n",
    "- An **ArrayList** is a utility from the ``java.util`` package\n",
    "\n",
    "- Unlike arrays, ArrayLists are mutable (can be resized after initialization)\n",
    "\n",
    "- Functions as a more versatile array\n",
    "\n",
    "    - Does technically take more space than an array but for the purposes of CSA it shouldn't matter\n",
    "<br>\n",
    "<br>\n",
    "- **The major difference between ArrayLists and arrays is that the elements in an ArrayList are Objects whereas the elements in arrays tend to be primitives**\n",
    "\n",
    "### Question\n",
    "When should we use ArrayLists vs Arrays?\n",
    "\n",
    "\n",
    "Showign how ArrayLists are mutable:"
   ]
  },
  {
   "cell_type": "code",
   "execution_count": 27,
   "metadata": {
    "vscode": {
     "languageId": "java"
    }
   },
   "outputs": [
    {
     "name": "stdout",
     "output_type": "stream",
     "text": [
      "Array 1:[]\n",
      "Array 2:[]\n",
      "Array 1:[1, 2, 3, 4, 5]\n",
      "Array 2:[1, 2, 3, 4, 5]\n"
     ]
    }
   ],
   "source": [
    "class ArrayListExample { \n",
    "    public static void main(String[] args) \n",
    "    { \n",
    "        // Size of ArrayList \n",
    "        int n = 5; \n",
    "  \n",
    "        // Declaring ArrayList with initial size n \n",
    "        ArrayList<Integer> arr1 = new ArrayList<Integer>(n); \n",
    "  \n",
    "        // Declaring ArrayList without initial size\n",
    "        ArrayList<Integer> arr2 = new ArrayList<Integer>(); \n",
    "  \n",
    "        // Printing ArrayList \n",
    "        System.out.println(\"Array 1:\" + arr1); \n",
    "        System.out.println(\"Array 2:\" + arr2); \n",
    "  \n",
    "        // Appending new elements to the end of the list \n",
    "        for (int i = 1; i <= n; i++) { \n",
    "            arr1.add(i); \n",
    "            arr2.add(i); \n",
    "        } \n",
    "  \n",
    "        // Printing ArrayList \n",
    "        System.out.println(\"Array 1:\" + arr1); \n",
    "        System.out.println(\"Array 2:\" + arr2); \n",
    "    } \n",
    "}\n",
    "ArrayListExample.main(null);"
   ]
  },
  {
   "cell_type": "markdown",
   "metadata": {},
   "source": [
    "## Vocabulary Refresher\n",
    "- An **element** is a single value in the **array**\n",
    "\n",
    "- The __**index**__ of an **element** is the position of the element in the **array** or **ArrayList**\n",
    "\n",
    "    - The first index of an **ArrayList**, like **arrays** is also 0 \n",
    "<br>\n",
    "<br>\n",
    "- The **length** of an **array** is the number of elements in the array.\n"
   ]
  },
  {
   "cell_type": "markdown",
   "metadata": {},
   "source": [
    "## Methods of an ArrayList\n",
    "- add()\n",
    "    - Adding a value to the ArrayList\n",
    "    - Can be used to create an element at a specific index in the ArrayList\n",
    "- get()\n",
    "    - Get the value of an index in the ArrayList\n",
    "- set()\n",
    "    - Change the value at an index in the ArrayList\n",
    "- remove()\n",
    "    - Delete the value at in index in the ArrayList\n",
    "- clear()\n",
    "    - Remove all values in an ArrayList\n",
    "- size()\n",
    "    - Get the length of the ArrayList"
   ]
  },
  {
   "cell_type": "code",
   "execution_count": 28,
   "metadata": {
    "vscode": {
     "languageId": "java"
    }
   },
   "outputs": [
    {
     "name": "stdout",
     "output_type": "stream",
     "text": [
      "You agree, I agree, \n",
      "They agree, I agree, "
     ]
    }
   ],
   "source": [
    "import java.util.ArrayList;\n",
    "\n",
    "public class Main {\n",
    "    public static void main(String[] args)\n",
    "    {\n",
    "        ArrayList<String> arrKimSucks = new ArrayList<String>(); //initializes the arraylist object\n",
    "\n",
    "        arrKimSucks.add(\"I agree\");\n",
    "        arrKimSucks.add(0, \"You agree\");\n",
    "\n",
    "        for (int i = 0; i < arrKimSucks.size(); i++)\n",
    "        {\n",
    "            System.out.print(arrKimSucks.get(i) + \", \");\n",
    "        }\n",
    "\n",
    "        arrKimSucks.set(0, \"They agree\");\n",
    "\n",
    "        arrKimSucks.add(\"I disagree\");\n",
    "        arrKimSucks.remove(2);\n",
    "        \n",
    "        System.out.println();\n",
    "        for (int i = 0; i < arrKimSucks.size(); i++)\n",
    "        {\n",
    "            System.out.print(arrKimSucks.get(i) + \", \");\n",
    "        }\n",
    "    }\n",
    "}\n",
    "Main.main(null);"
   ]
  },
  {
   "cell_type": "markdown",
   "metadata": {},
   "source": [
    "## Sorting\n",
    "- Using the sort() method\n",
    "\n",
    "- Requires importing the Collections package\n",
    "\n",
    "- Works both alphabetically (with Characters and Strings) and numerically (with Integers, Doubles, etc.)"
   ]
  },
  {
   "cell_type": "code",
   "execution_count": 21,
   "metadata": {
    "vscode": {
     "languageId": "java"
    }
   },
   "outputs": [
    {
     "name": "stdout",
     "output_type": "stream",
     "text": [
      "Before sorting: \n",
      "T\n",
      "E\n",
      "M\n",
      "B\n",
      "V\n",
      "After sorting: \n",
      "B\n",
      "E\n",
      "M\n",
      "T\n",
      "V\n"
     ]
    }
   ],
   "source": [
    "import java.util.ArrayList;\n",
    "import java.util.Collections;\n",
    "\n",
    "public class Main {\n",
    "    public static void main(String[] args)\n",
    "    {\n",
    "        ArrayList<Character> arrSort = new ArrayList<Character>();\n",
    "        arrSort.add('T');\n",
    "        arrSort.add('E');\n",
    "        arrSort.add('M');\n",
    "        arrSort.add('B');\n",
    "        arrSort.add('V');\n",
    "\n",
    "        //Print the arraylist before sorting using enhanced for loop\n",
    "        System.out.println(\"Before sorting: \");\n",
    "        for (Character i : arrSort)\n",
    "        {\n",
    "            System.out.println(i);\n",
    "        }\n",
    "        Collections.sort(arrSort);\n",
    "\n",
    "        //Print after sorting\n",
    "        System.out.println(\"After sorting: \");\n",
    "        for (Character i : arrSort)\n",
    "        {\n",
    "            System.out.println(i);\n",
    "        }\n",
    "    }\n",
    "}\n",
    "Main.main(null);"
   ]
  },
  {
   "cell_type": "markdown",
   "metadata": {},
   "source": [
    "## Popcorn Hack\n",
    "\n",
    "Finish the code below so that all duplicates in the ArrayList are removed."
   ]
  },
  {
   "cell_type": "code",
   "execution_count": null,
   "metadata": {
    "vscode": {
     "languageId": "java"
    }
   },
   "outputs": [],
   "source": [
    "import java.util.Arraylist;\n",
    "\n",
    "public class RemoveDuplicates {\n",
    "    public static void main(String[] args) {\n",
    "        ArrayList<Integer> arr = new ArrayList<Integer>;\n",
    "    }\n",
    "}"
   ]
  }
 ],
 "metadata": {
  "kernelspec": {
   "display_name": "Java",
   "language": "java",
   "name": "java"
  },
  "language_info": {
   "codemirror_mode": "java",
   "file_extension": ".jshell",
   "mimetype": "text/x-java-source",
   "name": "Java",
   "pygments_lexer": "java",
   "version": "18.0.2-ea+9-Ubuntu-222.04"
  }
 },
 "nbformat": 4,
 "nbformat_minor": 2
}
